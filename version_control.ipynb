{
 "cells": [
  {
   "cell_type": "markdown",
   "metadata": {},
   "source": [
    "## Setup\n",
    "You need to run this only once to link our configuration to your local repository! No need to run it every time"
   ]
  },
  {
   "cell_type": "code",
   "execution_count": null,
   "metadata": {},
   "outputs": [],
   "source": [
    "!git config --local include.path ../.gitconfig"
   ]
  },
  {
   "cell_type": "markdown",
   "metadata": {},
   "source": [
    "## Syncing\n",
    "Run this every time you want to sync with the latest exercise. \n",
    "With the current configuration, it should not touch the locally changed files, only add the new ones and update never-changed files."
   ]
  },
  {
   "cell_type": "code",
   "execution_count": 17,
   "metadata": {},
   "outputs": [
    {
     "name": "stdout",
     "output_type": "stream",
     "text": [
      "On branch master\n",
      "Your branch is ahead of 'origin/master' by 11 commits.\n",
      "  (use \"git push\" to publish your local commits)\n",
      "\n",
      "Untracked files:\n",
      "\t\u001b[31mversion_control.ipynb\u001b[m\n",
      "\n",
      "nothing added to commit but untracked files present\n",
      "remote: Enumerating objects: 7, done.\u001b[K\n",
      "remote: Counting objects: 100% (7/7), done.\u001b[K\n",
      "remote: Compressing objects: 100% (4/4), done.\u001b[K\n",
      "remote: Total 4 (delta 2), reused 0 (delta 0), pack-reused 0\u001b[K\n",
      "Unpacking objects: 100% (4/4), done.\n",
      "From https://github.com/tavisualcomputing/tavisualcomputing\n",
      "   319bcba..f8020e5  master     -> origin/master\n",
      "Merge made by the 'recursive' strategy.\n"
     ]
    }
   ],
   "source": [
    "!git commit -a -m 'Sync'\n",
    "!git pull --no-edit"
   ]
  },
  {
   "cell_type": "markdown",
   "metadata": {},
   "source": [
    "## Contact\n",
    "\n",
    "For any problem with syncing either ask the TA in class or email lcavalli"
   ]
  }
 ],
 "metadata": {
  "kernelspec": {
   "display_name": "Python 3",
   "language": "python",
   "name": "python3"
  },
  "language_info": {
   "codemirror_mode": {
    "name": "ipython",
    "version": 3
   },
   "file_extension": ".py",
   "mimetype": "text/x-python",
   "name": "python",
   "nbconvert_exporter": "python",
   "pygments_lexer": "ipython3",
   "version": "3.7.3"
  }
 },
 "nbformat": 4,
 "nbformat_minor": 4
}
